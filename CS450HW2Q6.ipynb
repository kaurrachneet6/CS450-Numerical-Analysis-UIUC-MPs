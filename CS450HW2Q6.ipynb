{
 "cells": [
  {
   "cell_type": "code",
   "execution_count": 5,
   "metadata": {
    "collapsed": true
   },
   "outputs": [],
   "source": [
    "import numpy as np\n",
    "import scipy.sparse as sp"
   ]
  },
  {
   "cell_type": "code",
   "execution_count": 10,
   "metadata": {
    "collapsed": false
   },
   "outputs": [
    {
     "name": "stdout",
     "output_type": "stream",
     "text": [
      "[[ 1.74720622]\n",
      " [ 3.15728464]\n",
      " [ 0.85619204]\n",
      " [ 1.04915926]]\n"
     ]
    }
   ],
   "source": [
    "W1=np.identity(4)\n",
    "W2=np.diag([1,2,3,4])\n",
    "W3=5**2*sp.diags([-1,2,-1],[-1,0,1],shape=(4,4))\n",
    "A=np.random.rand(4,2)\n",
    "z=np.random.rand(4,1)\n",
    "y1=np.dot(np.dot(A,np.dot(np.dot(A.T,W1),A))**(-1),np.dot(A.T,z))\n",
    "print (y1)"
   ]
  },
  {
   "cell_type": "code",
   "execution_count": null,
   "metadata": {
    "collapsed": true
   },
   "outputs": [],
   "source": []
  }
 ],
 "metadata": {
  "kernelspec": {
   "display_name": "Python 3",
   "language": "python",
   "name": "python3"
  },
  "language_info": {
   "codemirror_mode": {
    "name": "ipython",
    "version": 3
   },
   "file_extension": ".py",
   "mimetype": "text/x-python",
   "name": "python",
   "nbconvert_exporter": "python",
   "pygments_lexer": "ipython3",
   "version": "3.6.0"
  }
 },
 "nbformat": 4,
 "nbformat_minor": 2
}
