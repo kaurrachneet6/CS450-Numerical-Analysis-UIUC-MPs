{
 "cells": [
  {
   "cell_type": "code",
   "execution_count": 58,
   "metadata": {
    "collapsed": true
   },
   "outputs": [],
   "source": [
    "import numpy as np\n",
    "import matplotlib.pyplot as plt"
   ]
  },
  {
   "cell_type": "code",
   "execution_count": 77,
   "metadata": {
    "collapsed": false
   },
   "outputs": [],
   "source": [
    "true_sol=np.array([[0.],[1.]]) #True solution\n",
    "epsilon=10**(-16) #Machine precision\n",
    "err_newton=[] #Errors for newton method\n",
    "err_broyden=[] #Errors for Broyden method"
   ]
  },
  {
   "cell_type": "code",
   "execution_count": 78,
   "metadata": {
    "collapsed": true
   },
   "outputs": [],
   "source": [
    "def f(x0): #RHS function\n",
    "    x1=x0[0][0]\n",
    "    x2=x0[1][0]\n",
    "    rhs=np.array([[(x1+3.)*(x2**2-7.)+18],[np.sin(x2*np.exp(x1)-1.)]])\n",
    "    return rhs"
   ]
  },
  {
   "cell_type": "code",
   "execution_count": 79,
   "metadata": {
    "collapsed": true
   },
   "outputs": [],
   "source": [
    "def Jacob(x0): #Jacobian function\n",
    "    x1=x0[0][0]\n",
    "    x2=x0[1][0]\n",
    "    J=np.array([[(x2**2-7.),(x1+3.)*2*x2],[np.cos(x2*np.exp(x1)-1.)*x2*np.exp(x1), np.cos(x2*np.exp(x1)-1.)*np.exp(x1)]])\n",
    "    return J"
   ]
  },
  {
   "cell_type": "code",
   "execution_count": 80,
   "metadata": {
    "collapsed": false
   },
   "outputs": [],
   "source": [
    "def Newton(): #Newton method\n",
    "    iteration=0\n",
    "    x0=np.array([[-0.5],[1.4]]) #Initial point\n",
    "    while(np.linalg.norm(x0-true_sol)>epsilon):\n",
    "        s0=np.linalg.solve(Jacob(x0),-f(x0))\n",
    "        x0=s0+x0\n",
    "        err_newton.append(np.linalg.norm(x0-true_sol))\n",
    "        iteration+=1\n",
    "    return iteration  "
   ]
  },
  {
   "cell_type": "code",
   "execution_count": 81,
   "metadata": {
    "collapsed": false
   },
   "outputs": [],
   "source": [
    "def Broyden(): #Newton method\n",
    "    iteration=0\n",
    "    x0=np.array([[-0.5],[1.4]]) #Initial point\n",
    "    B0=Jacob(x0)\n",
    "    while(np.linalg.norm(x0-true_sol)>epsilon):\n",
    "        s0=np.linalg.solve(B0,-f(x0))\n",
    "        x1=s0+x0\n",
    "        y0=f(x1)-f(x0)\n",
    "        B0=B0+ np.dot((y0-np.dot(B0,s0)),s0.T)/np.dot(s0.T,s0)\n",
    "        x0=x1\n",
    "        err_broyden.append(np.linalg.norm(x0-true_sol))\n",
    "        iteration+=1\n",
    "    return iteration\n",
    "    "
   ]
  },
  {
   "cell_type": "code",
   "execution_count": 82,
   "metadata": {
    "collapsed": false
   },
   "outputs": [
    {
     "data": {
      "image/png": "[encoded data removed]",
      "text/plain": [
       "<matplotlib.figure.Figure at 0x13185905d68>"
      ]
     },
     "metadata": {},
     "output_type": "display_data"
    },
    {
     "name": "stdout",
     "output_type": "stream",
     "text": [
      "No. of iterations required for Newton to converge:  8\n",
      "No. of iterations required for Broyden to converge:  9\n"
     ]
    }
   ],
   "source": [
    "i_Newton=Newton()\n",
    "i_Broyden=Broyden()\n",
    "plt.semilogy(list(range(1,i_Newton+1)),err_newton,'-*b',label='Newton\\'s method')\n",
    "plt.semilogy(list(range(1,i_Broyden+1)),err_broyden,'-*r',label='Broydens\\' method')\n",
    "plt.xlabel('Iterations')\n",
    "plt.ylabel('Error (log scale)')\n",
    "plt.title('Comparing Newton and Broyden methods')\n",
    "plt.legend()\n",
    "plt.show()\n",
    "print ('No. of iterations required for Newton to converge: ',i_Newton)\n",
    "print ('No. of iterations required for Broyden to converge: ', i_Broyden)"
   ]
  },
  {
   "cell_type": "code",
   "execution_count": null,
   "metadata": {
    "collapsed": true
   },
   "outputs": [],
   "source": []
  },
  {
   "cell_type": "code",
   "execution_count": null,
   "metadata": {
    "collapsed": true
   },
   "outputs": [],
   "source": []
  }
 ],
 "metadata": {
  "kernelspec": {
   "display_name": "Python 3",
   "language": "python",
   "name": "python3"
  },
  "language_info": {
   "codemirror_mode": {
    "name": "ipython",
    "version": 3
   },
   "file_extension": ".py",
   "mimetype": "text/x-python",
   "name": "python",
   "nbconvert_exporter": "python",
   "pygments_lexer": "ipython3",
   "version": "3.6.0"
  }
 },
 "nbformat": 4,
 "nbformat_minor": 2
}
