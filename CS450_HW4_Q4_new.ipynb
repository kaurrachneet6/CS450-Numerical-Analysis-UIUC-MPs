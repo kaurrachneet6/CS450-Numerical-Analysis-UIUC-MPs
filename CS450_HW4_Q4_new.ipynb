{
 "cells": [
  {
   "cell_type": "code",
   "execution_count": 62,
   "metadata": {
    "collapsed": true
   },
   "outputs": [],
   "source": [
    "import numpy as np\n",
    "import matplotlib.pyplot as plt\n",
    "import math"
   ]
  },
  {
   "cell_type": "code",
   "execution_count": 154,
   "metadata": {
    "collapsed": true
   },
   "outputs": [],
   "source": [
    "m=300\n",
    "n=40\n",
    "h=2./m\n",
    "t=np.zeros((m,1))\n",
    "for i in range(m):\n",
    "    t[i]=-1.-h/2.+(i+1)*h\n",
    "    "
   ]
  },
  {
   "cell_type": "code",
   "execution_count": 155,
   "metadata": {
    "collapsed": true
   },
   "outputs": [],
   "source": [
    "initial = np.random.uniform(-1,1,n)\n",
    "x0=initial\n",
    "identity=np.eye(n)\n",
    "zero=np.zeros((n,1))"
   ]
  },
  {
   "cell_type": "code",
   "execution_count": 156,
   "metadata": {
    "collapsed": true
   },
   "outputs": [],
   "source": [
    "def q(x):\n",
    "    q_arr=np.zeros((m,1))\n",
    "    for index in range(len(t)):\n",
    "        prod=1.\n",
    "        for x_ind in range(len(x)):\n",
    "            prod=prod*(t[index]-x[x_ind])\n",
    "        #print ('prod',prod, index)\n",
    "        q_arr[index] = prod\n",
    "    return q_arr\n"
   ]
  },
  {
   "cell_type": "code",
   "execution_count": 157,
   "metadata": {
    "collapsed": true
   },
   "outputs": [],
   "source": [
    "def J(x):\n",
    "    J_arr=np.zeros((m,n))\n",
    "    temp=q(x)\n",
    "    for x_ind in range(len(x)):\n",
    "        for index in range(len(t)):\n",
    "            J_arr[index,x_ind]= -1*temp[index]/(t[index]-x[x_ind])\n",
    "    return J_arr"
   ]
  },
  {
   "cell_type": "code",
   "execution_count": 158,
   "metadata": {
    "collapsed": false
   },
   "outputs": [],
   "source": [
    "for i in range(50):\n",
    "    A=np.vstack((J(x0), np.sqrt(math.exp(-i))*identity))\n",
    "    b=np.vstack((-q(x0),zero))\n",
    "    x1=np.linalg.lstsq(A,b)[0]\n",
    "    r=np.array(x0-x1.T)[0]\n",
    "    #print (np.linalg.norm(r-x0))\n",
    "    if(np.linalg.norm(r-x0)<10**-15):\n",
    "        break\n",
    "    x0=r"
   ]
  },
  {
   "cell_type": "code",
   "execution_count": 159,
   "metadata": {
    "collapsed": false
   },
   "outputs": [
    {
     "data": {
      "image/png": "[encoded data removed]",
      "text/plain": [
       "<matplotlib.figure.Figure at 0x16a694034e0>"
      ]
     },
     "metadata": {},
     "output_type": "display_data"
    }
   ],
   "source": [
    "plt.plot(t,q(initial),label='Initial nodes')\n",
    "plt.plot(t,q(x0), label='Optimized nodes')\n",
    "plt.legend()\n",
    "plt.show()\n"
   ]
  },
  {
   "cell_type": "code",
   "execution_count": null,
   "metadata": {
    "collapsed": true
   },
   "outputs": [],
   "source": []
  }
 ],
 "metadata": {
  "kernelspec": {
   "display_name": "Python 3",
   "language": "python",
   "name": "python3"
  },
  "language_info": {
   "codemirror_mode": {
    "name": "ipython",
    "version": 3
   },
   "file_extension": ".py",
   "mimetype": "text/x-python",
   "name": "python",
   "nbconvert_exporter": "python",
   "pygments_lexer": "ipython3",
   "version": "3.6.0"
  }
 },
 "nbformat": 4,
 "nbformat_minor": 2
}
