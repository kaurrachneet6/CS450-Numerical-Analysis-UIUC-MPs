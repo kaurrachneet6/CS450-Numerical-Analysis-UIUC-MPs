{
 "cells": [
  {
   "cell_type": "code",
   "execution_count": 55,
   "metadata": {
    "collapsed": false
   },
   "outputs": [],
   "source": [
    "import numpy as np\n",
    "import numpy.linalg as la\n",
    "import scipy.optimize as opt\n",
    "\n",
    "######## EXAMPLE FOR USING MINIMIZE_SCALAR ##############\n",
    "# Define function\n",
    "def f(x,y,s):\n",
    "    return s*(y+x)\n",
    "# Call routine - min now contains the minimum x for the function\n",
    "#min = opt.minimize_scalar(f,args=(y,s)).x\n",
    "\n",
    "#########################################################\n",
    "\n",
    "def rosenbrock(x):\n",
    "    x1 = x[0]\n",
    "    x2 = x[1]\n",
    "    return 100*(x2 - x1**2)**2 + (1-x1)**2\n",
    "\n",
    "# FINISH THIS\n",
    "def gradient(x):\n",
    "    # Returns gradient of rosenbrock function at x as numpy array\n",
    "    x1 = x[0]\n",
    "    x2 = x[1]\n",
    "    grad = np.array([-400*(x2 - x1**2)*x1 - 2*(1-x1),200*(x2 - x1**2)])\n",
    "    return grad\n",
    "\n",
    "# FINISH THIS\n",
    "def hessian(x):\n",
    "    # Returns hessian of rosenbrock function at x as numpy array\n",
    "    x1 = x[0]\n",
    "    x2 = x[1]\n",
    "    hess = np.array([[-400*(x2 - x1**2)+800*x1**2+2, -400*x1], [-400*x1, 200]])\n",
    "    return hess\n",
    "\n",
    "# INSERT NEWTON FUNCTION DEFINITION\n",
    "def Newton(x):\n",
    "    max_iter=10\n",
    "    for i in range(max_iter):\n",
    "        temp=np.dot(np.linalg.inv(hessian(x)),gradient(x))\n",
    "        x=x-temp\n",
    "        \n",
    "def f(alpha,x):\n",
    "    return rosenbrock(x-alpha*gradient(x))\n",
    "    \n",
    "# INSERT STEEPEST DESCENT FUNCTION DEFINITION\n",
    "def descent(x):\n",
    "    max_iter=10\n",
    "    for i in range(max_iter):\n",
    "        m = opt.minimize_scalar(f,args=(x))\n",
    "        alpha=m.x\n",
    "        x=x-alpha*gradient(x)\n",
    "        \n",
    "    \n",
    "# DEFINE STARTING POINTS AND RETURN SOLUTIONS\n",
    "start1 = np.array([-1.,1.])\n",
    "start2 = np.array([0.,1.])\n",
    "start3 = np.array([2.,1.])\n",
    "\n",
    "nm1 = Newton(start1)\n",
    "nm2 = Newton(start2)\n",
    "nm3 = Newton(start3)\n",
    "sd1=descent(start1)\n",
    "sd2=descent(start2)\n",
    "sd3=descent(start3)"
   ]
  },
  {
   "cell_type": "code",
   "execution_count": null,
   "metadata": {
    "collapsed": true
   },
   "outputs": [],
   "source": []
  },
  {
   "cell_type": "code",
   "execution_count": 53,
   "metadata": {
    "collapsed": false
   },
   "outputs": [
    {
     "name": "stderr",
     "output_type": "stream",
     "text": [
      "C:\\Users\\Rachneet Kaur\\Anaconda3\\lib\\site-packages\\scipy\\optimize\\optimize.py:1837: RuntimeWarning: invalid value encountered in double_scalars\n",
      "  if numpy.abs(x - xmid) < (tol2 - 0.5 * (b - a)):\n"
     ]
    },
    {
     "ename": "AttributeError",
     "evalue": "y",
     "output_type": "error",
     "traceback": [
      "\u001b[0;31m---------------------------------------------------------------------------\u001b[0m",
      "\u001b[0;31mKeyError\u001b[0m                                  Traceback (most recent call last)",
      "\u001b[0;32mC:\\Users\\Rachneet Kaur\\Anaconda3\\lib\\site-packages\\scipy\\optimize\\optimize.py\u001b[0m in \u001b[0;36m__getattr__\u001b[0;34m(self, name)\u001b[0m\n\u001b[1;32m    113\u001b[0m         \u001b[1;32mtry\u001b[0m\u001b[1;33m:\u001b[0m\u001b[1;33m\u001b[0m\u001b[0m\n\u001b[0;32m--> 114\u001b[0;31m             \u001b[1;32mreturn\u001b[0m \u001b[0mself\u001b[0m\u001b[1;33m[\u001b[0m\u001b[0mname\u001b[0m\u001b[1;33m]\u001b[0m\u001b[1;33m\u001b[0m\u001b[0m\n\u001b[0m\u001b[1;32m    115\u001b[0m         \u001b[1;32mexcept\u001b[0m \u001b[0mKeyError\u001b[0m\u001b[1;33m:\u001b[0m\u001b[1;33m\u001b[0m\u001b[0m\n",
      "\u001b[0;31mKeyError\u001b[0m: 'y'",
      "\nDuring handling of the above exception, another exception occurred:\n",
      "\u001b[0;31mAttributeError\u001b[0m                            Traceback (most recent call last)",
      "\u001b[0;32m<ipython-input-53-a0821b05fa4c>\u001b[0m in \u001b[0;36m<module>\u001b[0;34m()\u001b[0m\n\u001b[1;32m      2\u001b[0m     \u001b[1;32mreturn\u001b[0m \u001b[0ms\u001b[0m\u001b[1;33m*\u001b[0m\u001b[1;33m(\u001b[0m\u001b[0my\u001b[0m\u001b[1;33m+\u001b[0m\u001b[0mx\u001b[0m\u001b[1;33m)\u001b[0m\u001b[1;33m\u001b[0m\u001b[0m\n\u001b[1;32m      3\u001b[0m \u001b[1;31m# Call routine - min now contains the minimum x for the function\u001b[0m\u001b[1;33m\u001b[0m\u001b[1;33m\u001b[0m\u001b[0m\n\u001b[0;32m----> 4\u001b[0;31m \u001b[0mmin\u001b[0m \u001b[1;33m=\u001b[0m \u001b[0mopt\u001b[0m\u001b[1;33m.\u001b[0m\u001b[0mminimize_scalar\u001b[0m\u001b[1;33m(\u001b[0m\u001b[0mf\u001b[0m\u001b[1;33m,\u001b[0m\u001b[0margs\u001b[0m\u001b[1;33m=\u001b[0m\u001b[1;33m(\u001b[0m\u001b[1;36m0.4\u001b[0m\u001b[1;33m,\u001b[0m\u001b[1;36m3\u001b[0m\u001b[1;33m)\u001b[0m\u001b[1;33m)\u001b[0m\u001b[1;33m.\u001b[0m\u001b[0my\u001b[0m\u001b[1;33m\u001b[0m\u001b[0m\n\u001b[0m\u001b[1;32m      5\u001b[0m \u001b[0mprint\u001b[0m\u001b[1;33m(\u001b[0m\u001b[0mmin\u001b[0m\u001b[1;33m)\u001b[0m\u001b[1;33m\u001b[0m\u001b[0m\n",
      "\u001b[0;32mC:\\Users\\Rachneet Kaur\\Anaconda3\\lib\\site-packages\\scipy\\optimize\\optimize.py\u001b[0m in \u001b[0;36m__getattr__\u001b[0;34m(self, name)\u001b[0m\n\u001b[1;32m    114\u001b[0m             \u001b[1;32mreturn\u001b[0m \u001b[0mself\u001b[0m\u001b[1;33m[\u001b[0m\u001b[0mname\u001b[0m\u001b[1;33m]\u001b[0m\u001b[1;33m\u001b[0m\u001b[0m\n\u001b[1;32m    115\u001b[0m         \u001b[1;32mexcept\u001b[0m \u001b[0mKeyError\u001b[0m\u001b[1;33m:\u001b[0m\u001b[1;33m\u001b[0m\u001b[0m\n\u001b[0;32m--> 116\u001b[0;31m             \u001b[1;32mraise\u001b[0m \u001b[0mAttributeError\u001b[0m\u001b[1;33m(\u001b[0m\u001b[0mname\u001b[0m\u001b[1;33m)\u001b[0m\u001b[1;33m\u001b[0m\u001b[0m\n\u001b[0m\u001b[1;32m    117\u001b[0m \u001b[1;33m\u001b[0m\u001b[0m\n\u001b[1;32m    118\u001b[0m     \u001b[0m__setattr__\u001b[0m \u001b[1;33m=\u001b[0m \u001b[0mdict\u001b[0m\u001b[1;33m.\u001b[0m\u001b[0m__setitem__\u001b[0m\u001b[1;33m\u001b[0m\u001b[0m\n",
      "\u001b[0;31mAttributeError\u001b[0m: y"
     ]
    }
   ],
   "source": [
    "def f(x,s,y):\n",
    "    return s*(y+x)\n",
    "# Call routine - min now contains the minimum x for the function\n",
    "min = opt.minimize_scalar(f,args=(4,3)).y\n",
    "print(min)"
   ]
  },
  {
   "cell_type": "code",
   "execution_count": null,
   "metadata": {
    "collapsed": true
   },
   "outputs": [],
   "source": []
  }
 ],
 "metadata": {
  "kernelspec": {
   "display_name": "Python 3",
   "language": "python",
   "name": "python3"
  },
  "language_info": {
   "codemirror_mode": {
    "name": "ipython",
    "version": 3
   },
   "file_extension": ".py",
   "mimetype": "text/x-python",
   "name": "python",
   "nbconvert_exporter": "python",
   "pygments_lexer": "ipython3",
   "version": "3.6.0"
  }
 },
 "nbformat": 4,
 "nbformat_minor": 2
}
