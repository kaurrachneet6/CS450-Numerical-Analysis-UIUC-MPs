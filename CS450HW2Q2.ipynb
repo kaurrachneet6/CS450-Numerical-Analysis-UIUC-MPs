{
 "cells": [
  {
   "cell_type": "code",
   "execution_count": 2,
   "metadata": {
    "collapsed": true
   },
   "outputs": [],
   "source": [
    "import numpy as np"
   ]
  },
  {
   "cell_type": "code",
   "execution_count": 13,
   "metadata": {
    "collapsed": false
   },
   "outputs": [
    {
     "name": "stdout",
     "output_type": "stream",
     "text": [
      "[[ 1.  0.  0.  0.]\n",
      " [ 0.  1.  0.  0.]\n",
      " [ 0.  0.  1.  0.]\n",
      " [ 0.  0.  0.  1.]\n",
      " [ 1. -1.  0.  0.]\n",
      " [ 1.  0. -1.  0.]\n",
      " [ 1.  0.  0. -1.]\n",
      " [ 0.  1. -1.  0.]\n",
      " [ 0.  1.  0. -1.]\n",
      " [ 0.  0.  1. -1.]]\n",
      "[[ 2.95]\n",
      " [ 1.74]\n",
      " [-1.45]\n",
      " [ 1.32]\n",
      " [ 1.23]\n",
      " [ 4.45]\n",
      " [ 1.61]\n",
      " [ 3.21]\n",
      " [ 0.45]\n",
      " [-2.75]]\n",
      "[[ 2.96   1.746 -1.46   1.314]]\n"
     ]
    }
   ],
   "source": [
    "A=np.array([[1.,0,0,0],[0,1.,0,0],[0,0,1.,0],[0,0,0,1.],[1.,-1.,0,0],[1.,0,-1.,0],[1.,0,0,-1.],[0,1.,-1.,0],[0,1.,0,-1.],[0,0,1.,-1.]])\n",
    "b=np.array([[2.95],[1.74],[-1.45],[1.32],[1.23],[4.45],[1.61],[3.21],[0.45],[-2.75]])\n",
    "x=np.linalg.lstsq(A,b)[0].T"
   ]
  },
  {
   "cell_type": "code",
   "execution_count": 11,
   "metadata": {
    "collapsed": false
   },
   "outputs": [
    {
     "name": "stdout",
     "output_type": "stream",
     "text": [
      "[[ 2.95]\n",
      " [ 1.74]\n",
      " [-1.45]\n",
      " [ 1.32]]\n",
      "[[ 0.01 ]\n",
      " [ 0.006]\n",
      " [-0.01 ]\n",
      " [-0.006]]\n",
      "[[ 0.00337838]\n",
      " [ 0.00343643]\n",
      " [ 0.00684932]\n",
      " [ 0.00456621]]\n"
     ]
    }
   ],
   "source": [
    "truevalues = b[0:4]\n",
    "rel_errors= np.abs((x-truevalues)/x)"
   ]
  },
  {
   "cell_type": "code",
   "execution_count": null,
   "metadata": {
    "collapsed": true
   },
   "outputs": [],
   "source": []
  }
 ],
 "metadata": {
  "kernelspec": {
   "display_name": "Python 3",
   "language": "python",
   "name": "python3"
  },
  "language_info": {
   "codemirror_mode": {
    "name": "ipython",
    "version": 3
   },
   "file_extension": ".py",
   "mimetype": "text/x-python",
   "name": "python",
   "nbconvert_exporter": "python",
   "pygments_lexer": "ipython3",
   "version": "3.6.0"
  }
 },
 "nbformat": 4,
 "nbformat_minor": 2
}
