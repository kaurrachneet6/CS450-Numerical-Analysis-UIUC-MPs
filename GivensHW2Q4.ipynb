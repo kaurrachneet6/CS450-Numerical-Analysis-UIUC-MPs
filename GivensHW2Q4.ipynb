{
 "cells": [
  {
   "cell_type": "code",
   "execution_count": 101,
   "metadata": {
    "collapsed": true
   },
   "outputs": [],
   "source": [
    "import numpy as np"
   ]
  },
  {
   "cell_type": "code",
   "execution_count": 102,
   "metadata": {
    "collapsed": false
   },
   "outputs": [
    {
     "name": "stdout",
     "output_type": "stream",
     "text": [
      "[[ 1  1  1]\n",
      " [ 1  2  4]\n",
      " [ 1  3  9]\n",
      " [ 1  4 16]]\n"
     ]
    }
   ],
   "source": [
    "A=np.array([[1,1,1],[1,2,4],[1,3,9],[1,4,16]])\n",
    "print (A)"
   ]
  },
  {
   "cell_type": "code",
   "execution_count": 103,
   "metadata": {
    "collapsed": false
   },
   "outputs": [
    {
     "name": "stdout",
     "output_type": "stream",
     "text": [
      "[[ 1.          0.          0.          0.        ]\n",
      " [ 0.          1.          0.          0.        ]\n",
      " [ 0.          0.          0.70710678  0.70710678]\n",
      " [ 0.          0.         -0.70710678  0.70710678]]\n"
     ]
    }
   ],
   "source": [
    "G1=np.array([[1,0,0,0],[0,1,0,0],[0,0,1./np.sqrt(2),1./np.sqrt(2)],[0,0,-1./np.sqrt(2),1/np.sqrt(2)]])\n",
    "print (G1)"
   ]
  },
  {
   "cell_type": "code",
   "execution_count": 104,
   "metadata": {
    "collapsed": false
   },
   "outputs": [
    {
     "name": "stdout",
     "output_type": "stream",
     "text": [
      "[[  1.           1.           1.        ]\n",
      " [  1.           2.           4.        ]\n",
      " [  1.41421356   4.94974747  17.67766953]\n",
      " [  0.           0.70710678   4.94974747]]\n"
     ]
    }
   ],
   "source": [
    "A=np.dot(G1,A)\n",
    "print (A)"
   ]
  },
  {
   "cell_type": "code",
   "execution_count": 105,
   "metadata": {
    "collapsed": false
   },
   "outputs": [
    {
     "name": "stdout",
     "output_type": "stream",
     "text": [
      "[[ 1.          0.          0.          0.        ]\n",
      " [ 0.          0.57735027  0.81649658  0.        ]\n",
      " [ 0.         -0.81649658  0.57735027  0.        ]\n",
      " [ 0.          0.          0.          1.        ]]\n"
     ]
    }
   ],
   "source": [
    "c=A[1,0]/np.sqrt(A[1,0]**2 + A[2,0]**2)\n",
    "s=A[2,0]/np.sqrt(A[1,0]**2 + A[2,0]**2)\n",
    "G2=np.array([[1,0,0,0],[0,c,s,0],[0,-s,c,0],[0,0,0,1.]])\n",
    "print (G2)"
   ]
  },
  {
   "cell_type": "code",
   "execution_count": 106,
   "metadata": {
    "collapsed": false
   },
   "outputs": [
    {
     "name": "stdout",
     "output_type": "stream",
     "text": [
      "[[  1.           1.           1.        ]\n",
      " [  1.73205081   5.19615242  16.74315781]\n",
      " [  0.           1.22474487   6.94022094]\n",
      " [  0.           0.70710678   4.94974747]]\n"
     ]
    }
   ],
   "source": [
    "A=np.dot(G2,A)\n",
    "print (A)"
   ]
  },
  {
   "cell_type": "code",
   "execution_count": 107,
   "metadata": {
    "collapsed": false
   },
   "outputs": [
    {
     "name": "stdout",
     "output_type": "stream",
     "text": [
      "[[ 0.5        0.8660254  0.         0.       ]\n",
      " [-0.8660254  0.5        0.         0.       ]\n",
      " [ 0.         0.         1.         0.       ]\n",
      " [ 0.         0.         0.         1.       ]]\n"
     ]
    }
   ],
   "source": [
    "c=A[0,0]/np.sqrt(A[0,0]**2 + A[1,0]**2)\n",
    "s=A[1,0]/np.sqrt(A[0,0]**2 + A[1,0]**2)\n",
    "G3=np.array([[c,s,0,0],[-s,c,0,0],[0,0,1.,0],[0,0,0,1.]])\n",
    "print (G3)"
   ]
  },
  {
   "cell_type": "code",
   "execution_count": 108,
   "metadata": {
    "collapsed": false
   },
   "outputs": [
    {
     "name": "stdout",
     "output_type": "stream",
     "text": [
      "[[  2.00000000e+00   5.00000000e+00   1.50000000e+01]\n",
      " [  1.11022302e-16   1.73205081e+00   7.50555350e+00]\n",
      " [  0.00000000e+00   1.22474487e+00   6.94022094e+00]\n",
      " [  0.00000000e+00   7.07106781e-01   4.94974747e+00]]\n"
     ]
    }
   ],
   "source": [
    "A=np.dot(G3,A)\n",
    "print (A)"
   ]
  },
  {
   "cell_type": "code",
   "execution_count": 109,
   "metadata": {
    "collapsed": false
   },
   "outputs": [
    {
     "name": "stdout",
     "output_type": "stream",
     "text": [
      "[[ 1.         0.         0.         0.       ]\n",
      " [ 0.         1.         0.         0.       ]\n",
      " [ 0.         0.         0.8660254  0.5      ]\n",
      " [ 0.         0.        -0.5        0.8660254]]\n"
     ]
    }
   ],
   "source": [
    "c=A[2,1]/np.sqrt(A[3,1]**2 + A[2,1]**2)\n",
    "s=A[3,1]/np.sqrt(A[3,1]**2 + A[2,1]**2)\n",
    "G4=np.array([[1.,0,0,0],[0,1.,0,0],[0,0,c,s],[0,0,-s,c]])\n",
    "print (G4)"
   ]
  },
  {
   "cell_type": "code",
   "execution_count": 110,
   "metadata": {
    "collapsed": false
   },
   "outputs": [
    {
     "name": "stdout",
     "output_type": "stream",
     "text": [
      "[[  2.00000000e+00   5.00000000e+00   1.50000000e+01]\n",
      " [  1.11022302e-16   1.73205081e+00   7.50555350e+00]\n",
      " [  0.00000000e+00   1.41421356e+00   8.48528137e+00]\n",
      " [  0.00000000e+00   0.00000000e+00   8.16496581e-01]]\n"
     ]
    }
   ],
   "source": [
    "A=np.dot(G4,A)\n",
    "print (A)"
   ]
  },
  {
   "cell_type": "code",
   "execution_count": 111,
   "metadata": {
    "collapsed": false
   },
   "outputs": [
    {
     "name": "stdout",
     "output_type": "stream",
     "text": [
      "[[ 1.          0.          0.          0.        ]\n",
      " [ 0.          0.77459667  0.63245553  0.        ]\n",
      " [ 0.         -0.63245553  0.77459667  0.        ]\n",
      " [ 0.          0.          0.          1.        ]]\n"
     ]
    }
   ],
   "source": [
    "c=A[1,1]/np.sqrt(A[1,1]**2 + A[2,1]**2)\n",
    "s=A[2,1]/np.sqrt(A[1,1]**2 + A[2,1]**2)\n",
    "G5=np.array([[1.,0,0,0],[0,c,s,0],[0,-s,c,0],[0,0,0,1.]])\n",
    "print (G5)"
   ]
  },
  {
   "cell_type": "code",
   "execution_count": 112,
   "metadata": {
    "collapsed": false
   },
   "outputs": [
    {
     "name": "stdout",
     "output_type": "stream",
     "text": [
      "[[  2.00000000e+00   5.00000000e+00   1.50000000e+01]\n",
      " [  8.59975057e-17   2.23606798e+00   1.11803399e+01]\n",
      " [ -7.02166694e-17   0.00000000e+00   1.82574186e+00]\n",
      " [  0.00000000e+00   0.00000000e+00   8.16496581e-01]]\n"
     ]
    }
   ],
   "source": [
    "A=np.dot(G5,A)\n",
    "print (A)"
   ]
  },
  {
   "cell_type": "code",
   "execution_count": 113,
   "metadata": {
    "collapsed": false
   },
   "outputs": [
    {
     "name": "stdout",
     "output_type": "stream",
     "text": [
      "[[ 1.          0.          0.          0.        ]\n",
      " [ 0.          1.          0.          0.        ]\n",
      " [ 0.          0.          0.91287093  0.40824829]\n",
      " [ 0.          0.         -0.40824829  0.91287093]]\n"
     ]
    }
   ],
   "source": [
    "c=A[2,2]/np.sqrt(A[2,2]**2 + A[3,2]**2)\n",
    "s=A[3,2]/np.sqrt(A[2,2]**2 + A[3,2]**2)\n",
    "G6=np.array([[1.,0,0,0],[0,1.,0,0],[0,0,c,s],[0,0,-s,c]])\n",
    "print (G6)"
   ]
  },
  {
   "cell_type": "code",
   "execution_count": 114,
   "metadata": {
    "collapsed": false
   },
   "outputs": [
    {
     "name": "stdout",
     "output_type": "stream",
     "text": [
      "[[  2.00000000e+00   5.00000000e+00   1.50000000e+01]\n",
      " [  8.59975057e-17   2.23606798e+00   1.11803399e+01]\n",
      " [ -6.40987562e-17   0.00000000e+00   2.00000000e+00]\n",
      " [  2.86658352e-17   0.00000000e+00   1.11022302e-16]]\n"
     ]
    }
   ],
   "source": [
    "A=np.dot(G6,A)\n",
    "print (A)"
   ]
  },
  {
   "cell_type": "code",
   "execution_count": 115,
   "metadata": {
    "collapsed": false
   },
   "outputs": [
    {
     "name": "stdout",
     "output_type": "stream",
     "text": [
      "[[ 0.5        -0.67082039  0.5        -0.2236068 ]\n",
      " [ 0.5        -0.2236068  -0.5         0.67082039]\n",
      " [ 0.5         0.2236068  -0.5        -0.67082039]\n",
      " [ 0.5         0.67082039  0.5         0.2236068 ]]\n"
     ]
    }
   ],
   "source": [
    "Q=np.dot(G6,np.dot(G5,np.dot(G4,np.dot(G3,np.dot(G2,G1)))))\n",
    "print (Q.T)"
   ]
  },
  {
   "cell_type": "code",
   "execution_count": 99,
   "metadata": {
    "collapsed": false
   },
   "outputs": [
    {
     "ename": "SyntaxError",
     "evalue": "invalid syntax (<ipython-input-99-875733f5014e>, line 1)",
     "output_type": "error",
     "traceback": [
      "\u001b[0;36m  File \u001b[0;32m\"<ipython-input-99-875733f5014e>\"\u001b[0;36m, line \u001b[0;32m1\u001b[0m\n\u001b[0;31m    Matrix Q:\u001b[0m\n\u001b[0m           ^\u001b[0m\n\u001b[0;31mSyntaxError\u001b[0m\u001b[0;31m:\u001b[0m invalid syntax\n"
     ]
    }
   ],
   "source": [
    "Matrix Q:\n",
    "   -0.5000    0.6708    0.5000    0.2236\n",
    "   -0.5000    0.2236   -0.5000   -0.6708\n",
    "   -0.5000   -0.2236   -0.5000    0.6708\n",
    "   -0.5000   -0.6708    0.5000   -0.2236"
   ]
  },
  {
   "cell_type": "code",
   "execution_count": 132,
   "metadata": {
    "collapsed": false
   },
   "outputs": [
    {
     "name": "stdout",
     "output_type": "stream",
     "text": [
      "H is [[-0.5        -0.5        -0.5        -0.5       ]\n",
      " [-0.5         0.83333333 -0.16666667 -0.16666667]\n",
      " [-0.5        -0.16666667  0.83333333 -0.16666667]\n",
      " [-0.5        -0.16666667 -0.16666667  0.83333333]]\n",
      "[[ -2.00000000e+00  -5.00000000e+00  -1.50000000e+01]\n",
      " [  1.11022302e-16   0.00000000e+00  -1.33333333e+00]\n",
      " [  5.55111512e-17   1.00000000e+00   3.66666667e+00]\n",
      " [  1.11022302e-16   2.00000000e+00   1.06666667e+01]]\n"
     ]
    }
   ],
   "source": [
    "#Householder\n",
    "B=np.array([[1,1,1],[1,2,4],[1,3,9],[1,4,16]])\n",
    "v=np.array([[3],[1],[1],[1]])\n",
    "H=np.identity(4) - (2/np.dot(v.T,v))*np.dot(v,v.T)\n",
    "print ('H is', H)\n",
    "X=np.dot(H,B)\n",
    "print (X)\n"
   ]
  },
  {
   "cell_type": "code",
   "execution_count": 130,
   "metadata": {
    "collapsed": false
   },
   "outputs": [
    {
     "name": "stdout",
     "output_type": "stream",
     "text": [
      "[[ -2.23606798e+00  -1.11803399e+01]\n",
      " [  0.00000000e+00  -7.37048539e-01]\n",
      " [ -1.11022302e-16   1.85923625e+00]]\n"
     ]
    }
   ],
   "source": [
    "S=X[1:,1:]\n",
    "v2=np.array([[np.sqrt(5)],[1.],[2.]])\n",
    "H2=np.identity(3)-((2./np.dot(v2.T, v2))*np.dot(v2,v2.T))\n",
    "Y=np.dot(H2,S)\n",
    "print (Y)"
   ]
  },
  {
   "cell_type": "code",
   "execution_count": 129,
   "metadata": {
    "collapsed": false
   },
   "outputs": [
    {
     "name": "stdout",
     "output_type": "stream",
     "text": [
      "[[ 22.01857603]]\n",
      "[[ 4.40371521]]\n",
      "[[ 9.84700655]\n",
      " [ 4.40371521]\n",
      " [ 8.80743041]]\n"
     ]
    }
   ],
   "source": [
    "Ha=np.array([[-4./3],[11./3],[32./3]])\n",
    "V1=np.array([[np.sqrt(5)],[1.],[2.]])\n",
    "gamma=np.dot(V1.T,Ha)\n",
    "print (gamma)\n",
    "print (gamma*2/10)\n",
    "print ((gamma*2/10)*V1)"
   ]
  },
  {
   "cell_type": "code",
   "execution_count": 118,
   "metadata": {
    "collapsed": false
   },
   "outputs": [
    {
     "name": "stdout",
     "output_type": "stream",
     "text": [
      "[[  2.00000000e+00]\n",
      " [  1.11022302e-16]]\n"
     ]
    }
   ],
   "source": [
    "S2=Y[1:,1:]\n",
    "v3=S2-np.linalg.norm(S2)*np.array([[1],[0]])\n",
    "H3=np.identity(2)-(2./np.dot(v3.T, v3))*np.dot(v3,v3.T)\n",
    "z=np.dot(H3,S2)\n",
    "print (z)"
   ]
  },
  {
   "cell_type": "code",
   "execution_count": 119,
   "metadata": {
    "collapsed": false
   },
   "outputs": [
    {
     "name": "stdout",
     "output_type": "stream",
     "text": [
      "[[  1.00000000e+00   0.00000000e+00   0.00000000e+00   0.00000000e+00]\n",
      " [  0.00000000e+00  -2.22044605e-16  -4.47213595e-01  -8.94427191e-01]\n",
      " [  0.00000000e+00  -4.47213595e-01   8.00000000e-01  -4.00000000e-01]\n",
      " [  0.00000000e+00  -8.94427191e-01  -4.00000000e-01   2.00000000e-01]]\n"
     ]
    }
   ],
   "source": [
    "H2=np.hstack((np.array([[0],[0],[0]]),H2))\n",
    "H2=np.vstack((np.array([1,0,0,0]),H2))\n",
    "print (H2)"
   ]
  },
  {
   "cell_type": "code",
   "execution_count": 120,
   "metadata": {
    "collapsed": false
   },
   "outputs": [
    {
     "name": "stdout",
     "output_type": "stream",
     "text": [
      "[[ 1.          0.          0.          0.        ]\n",
      " [ 0.          1.          0.          0.        ]\n",
      " [ 0.          0.         -0.36852427  0.92961813]\n",
      " [ 0.          0.          0.92961813  0.36852427]]\n"
     ]
    }
   ],
   "source": [
    "H3=np.hstack((np.array([[0,0],[0,0]]),H3))\n",
    "H3=np.vstack((np.array([[1,0,0,0],[0,1,0,0]]),H3))\n",
    "print (H3)"
   ]
  },
  {
   "cell_type": "code",
   "execution_count": 121,
   "metadata": {
    "collapsed": false
   },
   "outputs": [],
   "source": [
    "Q=np.dot(np.dot(H,H2),H3)"
   ]
  },
  {
   "cell_type": "code",
   "execution_count": 122,
   "metadata": {
    "collapsed": false
   },
   "outputs": [
    {
     "name": "stdout",
     "output_type": "stream",
     "text": [
      "[[-0.5         0.67082039  0.5         0.2236068 ]\n",
      " [-0.5         0.2236068  -0.5        -0.67082039]\n",
      " [-0.5        -0.2236068  -0.5         0.67082039]\n",
      " [-0.5        -0.67082039  0.5        -0.2236068 ]]\n"
     ]
    }
   ],
   "source": [
    "print (Q)"
   ]
  },
  {
   "cell_type": "code",
   "execution_count": null,
   "metadata": {
    "collapsed": true
   },
   "outputs": [],
   "source": []
  }
 ],
 "metadata": {
  "kernelspec": {
   "display_name": "Python 3",
   "language": "python",
   "name": "python3"
  },
  "language_info": {
   "codemirror_mode": {
    "name": "ipython",
    "version": 3
   },
   "file_extension": ".py",
   "mimetype": "text/x-python",
   "name": "python",
   "nbconvert_exporter": "python",
   "pygments_lexer": "ipython3",
   "version": "3.6.0"
  }
 },
 "nbformat": 4,
 "nbformat_minor": 2
}
