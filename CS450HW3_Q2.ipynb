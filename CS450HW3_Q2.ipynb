{
 "cells": [
  {
   "cell_type": "code",
   "execution_count": 21,
   "metadata": {
    "collapsed": true
   },
   "outputs": [],
   "source": [
    "import numpy as np\n",
    "import scipy.linalg "
   ]
  },
  {
   "cell_type": "code",
   "execution_count": 53,
   "metadata": {
    "collapsed": false
   },
   "outputs": [],
   "source": [
    "A=np.array([[6.,2.,1.],[2.,3.,1.],[1.,1.,1.]])\n",
    "x0=np.array([[0.],[0.],[1.]])\n",
    "n=15\n",
    "sigma = 2."
   ]
  },
  {
   "cell_type": "code",
   "execution_count": 54,
   "metadata": {
    "collapsed": false
   },
   "outputs": [],
   "source": [
    "M=A-sigma*np.identity(3)\n",
    "eigs,eigvecs=np.linalg.eig(M)\n",
    "LU,P=scipy.linalg.lu_factor(M)"
   ]
  },
  {
   "cell_type": "code",
   "execution_count": 55,
   "metadata": {
    "collapsed": false
   },
   "outputs": [
    {
     "name": "stdout",
     "output_type": "stream",
     "text": [
      "[[-0.49742503]\n",
      " [ 0.8195891 ]\n",
      " [ 0.28432735]]\n"
     ]
    }
   ],
   "source": [
    "for k in range(n):\n",
    "    sol=scipy.linalg.lu_solve((LU,P),x0)\n",
    "    norm=np.linalg.norm(sol)\n",
    "    x0=sol/norm\n",
    "pred_eig=sigma+1./norm\n",
    "pred_evec=x0\n",
    "print (x0)"
   ]
  },
  {
   "cell_type": "code",
   "execution_count": 56,
   "metadata": {
    "collapsed": false
   },
   "outputs": [],
   "source": [
    "eigval=eigs[np.abs(eigs).argmin()]\n",
    "diffval = np.abs(pred_eig-eigval)/eigval"
   ]
  },
  {
   "cell_type": "code",
   "execution_count": 57,
   "metadata": {
    "collapsed": false
   },
   "outputs": [],
   "source": [
    "vec=eigvec[:,np.abs(eigs).argmin()]"
   ]
  },
  {
   "cell_type": "code",
   "execution_count": null,
   "metadata": {
    "collapsed": true
   },
   "outputs": [],
   "source": []
  }
 ],
 "metadata": {
  "kernelspec": {
   "display_name": "Python 3",
   "language": "python",
   "name": "python3"
  },
  "language_info": {
   "codemirror_mode": {
    "name": "ipython",
    "version": 3
   },
   "file_extension": ".py",
   "mimetype": "text/x-python",
   "name": "python",
   "nbconvert_exporter": "python",
   "pygments_lexer": "ipython3",
   "version": "3.6.0"
  }
 },
 "nbformat": 4,
 "nbformat_minor": 2
}
