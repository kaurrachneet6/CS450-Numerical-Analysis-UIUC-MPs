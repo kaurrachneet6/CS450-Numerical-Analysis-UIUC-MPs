{
 "cells": [
  {
   "cell_type": "code",
   "execution_count": 175,
   "metadata": {
    "collapsed": true
   },
   "outputs": [],
   "source": [
    "import numpy as np\n",
    "import scipy.sparse as sp\n",
    "import scipy.sparse.linalg as la\n",
    "import matplotlib.pyplot as plt\n",
    "import time"
   ]
  },
  {
   "cell_type": "code",
   "execution_count": 176,
   "metadata": {
    "collapsed": true
   },
   "outputs": [],
   "source": [
    "#Returns the product (A x B x C)u\n",
    "def kron_eval(A, B, C, u):\n",
    "    ma, na = A.shape\n",
    "    mb, nb = B.shape\n",
    "    mc, nc = C.shape\n",
    "\n",
    "    v = np.zeros((nc, mb, na))\n",
    "    u = u.reshape((nc, nb, na))\n",
    "\n",
    "    Bt = B.transpose()\n",
    "\n",
    "    for k in range(na):\n",
    "        v[:, :, k] = u[:, :, k] @ Bt\n",
    "\n",
    "    v = v.reshape((nc, nb*na))\n",
    "    v = C @ (v)\n",
    "    \n",
    "    v = v.reshape((mc*nb, nc))\n",
    "    v = v @ (A.transpose())\n",
    "    \n",
    "    v = v.reshape((ma*mb*mc, 1))\n",
    "    return v"
   ]
  },
  {
   "cell_type": "code",
   "execution_count": 271,
   "metadata": {
    "collapsed": false
   },
   "outputs": [],
   "source": [
    "def fast_solve(Ax, f):\n",
    "    lamda, Sx = np.linalg.eigh(Ax.toarray())\n",
    "    lx=sp.diags(lamda)\n",
    "    I=sp.identity(lx.shape[0])\n",
    "    Sx_inv=np.transpose(Sx)\n",
    "    vec=kron_eval(Sx_inv,Sx_inv,Sx_inv,f).T\n",
    "    D=(sp.kron(sp.kron(I,I),lx)+sp.kron(sp.kron(I,lx),I)+sp.kron(sp.kron(lx,I),I)).diagonal()\n",
    "    vc=np.divide(vec,D)\n",
    "    f=kron_eval(Sx,Sx,Sx,vc)\n",
    "    return f"
   ]
  },
  {
   "cell_type": "code",
   "execution_count": null,
   "metadata": {
    "collapsed": true
   },
   "outputs": [],
   "source": []
  },
  {
   "cell_type": "code",
   "execution_count": 273,
   "metadata": {
    "collapsed": false,
    "scrolled": true
   },
   "outputs": [
    {
     "data": {
      "image/png": "[encoded data removed]",
      "text/plain": [
       "<matplotlib.figure.Figure at 0x1ce929ade80>"
      ]
     },
     "metadata": {},
     "output_type": "display_data"
    }
   ],
   "source": [
    "Nmax=20\n",
    "Directsolve_time =[]\n",
    "Fastsolve_time=[]\n",
    "dim=[N**3 for N in range(3, Nmax)]\n",
    "for N in range(3, Nmax):\n",
    "    Ax=(N+1)**2*sp.diags([-1, 2, -1], [-1, 0, 1], shape=(N, N))\n",
    "    f=np.random.rand(N**3)\n",
    "    I=sp.identity(N)\n",
    "    A= sp.kron(sp.kron(I,I),Ax) + sp.kron(sp.kron(I,Ax),I)+ sp.kron(sp.kron(Ax,I),I)\n",
    "    A=A.tocsc()\n",
    "    start2 = time.time()\n",
    "    x=la.spsolve(A,f)\n",
    "    end2 = time.time()\n",
    "    Directsolve_time.append(end2-start2)\n",
    "    start1=time.time()\n",
    "    sol=fast_solve(Ax, f)\n",
    "    end1=time.time()\n",
    "    Fastsolve_time.append(end1-start1)\n",
    "plt.loglog(dim,Directsolve_time, label='Solving directly')\n",
    "plt.loglog(dim,Fastsolve_time,label='Solving using fast methods')\n",
    "plt.xlabel('Dimension')\n",
    "plt.ylabel('Time to solve directly')\n",
    "plt.legend()\n",
    "plt.show()"
   ]
  },
  {
   "cell_type": "code",
   "execution_count": null,
   "metadata": {
    "collapsed": true
   },
   "outputs": [],
   "source": [
    "    "
   ]
  },
  {
   "cell_type": "code",
   "execution_count": null,
   "metadata": {
    "collapsed": true
   },
   "outputs": [],
   "source": []
  }
 ],
 "metadata": {
  "kernelspec": {
   "display_name": "Python 3",
   "language": "python",
   "name": "python3"
  },
  "language_info": {
   "codemirror_mode": {
    "name": "ipython",
    "version": 3
   },
   "file_extension": ".py",
   "mimetype": "text/x-python",
   "name": "python",
   "nbconvert_exporter": "python",
   "pygments_lexer": "ipython3",
   "version": "3.6.0"
  }
 },
 "nbformat": 4,
 "nbformat_minor": 2
}
